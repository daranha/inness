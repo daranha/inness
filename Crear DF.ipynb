{
 "cells": [
  {
   "cell_type": "code",
   "execution_count": 13,
   "metadata": {
    "collapsed": true,
    "deletable": true,
    "editable": true
   },
   "outputs": [],
   "source": [
    "import shapefile\n",
    "import pandas as pd\n",
    "file = shapefile.Reader(\"C:/Users/User/Desktop/Servicio Social_ interioridad/REDCDMX/VialidadOSM.shp\")\n",
    "diccionario = file.__geo_interface__"
   ]
  },
  {
   "cell_type": "code",
   "execution_count": 14,
   "metadata": {
    "collapsed": true,
    "deletable": true,
    "editable": true
   },
   "outputs": [],
   "source": [
    "t = []\n",
    "c = []\n",
    "\n",
    "i = 0\n",
    "for x in diccionario['features']:\n",
    "    if i < len(diccionario['features']):\n",
    "        t.append(diccionario['features'][i]['geometry']['type'])\n",
    "        c.append(diccionario['features'][i]['geometry']['coordinates'])\n",
    "        i += 1      "
   ]
  },
  {
   "cell_type": "code",
   "execution_count": 15,
   "metadata": {
    "collapsed": true,
    "deletable": true,
    "editable": true
   },
   "outputs": [],
   "source": [
    "df = pd.DataFrame({'type' : t, 'coordinates' : c})"
   ]
  },
  {
   "cell_type": "code",
   "execution_count": 1,
   "metadata": {
    "collapsed": true
   },
   "outputs": [],
   "source": [
    "import pandas as pd"
   ]
  },
  {
   "cell_type": "code",
   "execution_count": null,
   "metadata": {
    "collapsed": true
   },
   "outputs": [],
   "source": [
    "df = pd.DataFrame(d)"
   ]
  },
  {
   "cell_type": "code",
   "execution_count": 16,
   "metadata": {
    "collapsed": false,
    "deletable": true,
    "editable": true
   },
   "outputs": [
    {
     "data": {
      "text/html": [
       "<div>\n",
       "<style scoped>\n",
       "    .dataframe tbody tr th:only-of-type {\n",
       "        vertical-align: middle;\n",
       "    }\n",
       "\n",
       "    .dataframe tbody tr th {\n",
       "        vertical-align: top;\n",
       "    }\n",
       "\n",
       "    .dataframe thead th {\n",
       "        text-align: right;\n",
       "    }\n",
       "</style>\n",
       "<table border=\"1\" class=\"dataframe\">\n",
       "  <thead>\n",
       "    <tr style=\"text-align: right;\">\n",
       "      <th></th>\n",
       "      <th>type</th>\n",
       "      <th>coordinates</th>\n",
       "    </tr>\n",
       "  </thead>\n",
       "  <tbody>\n",
       "    <tr>\n",
       "      <th>0</th>\n",
       "      <td>LineString</td>\n",
       "      <td>[(-99.155751, 19.367176), (-99.155593, 19.3675...</td>\n",
       "    </tr>\n",
       "    <tr>\n",
       "      <th>1</th>\n",
       "      <td>LineString</td>\n",
       "      <td>[(-99.184982, 19.385149), (-99.185079, 19.3850...</td>\n",
       "    </tr>\n",
       "    <tr>\n",
       "      <th>2</th>\n",
       "      <td>LineString</td>\n",
       "      <td>[(-99.131604, 19.394036), (-99.131504, 19.3945...</td>\n",
       "    </tr>\n",
       "    <tr>\n",
       "      <th>3</th>\n",
       "      <td>LineString</td>\n",
       "      <td>[(-99.140084, 19.382814), (-99.14144, 19.38306...</td>\n",
       "    </tr>\n",
       "    <tr>\n",
       "      <th>4</th>\n",
       "      <td>LineString</td>\n",
       "      <td>[(-99.147813, 19.380851), (-99.148397, 19.3809...</td>\n",
       "    </tr>\n",
       "    <tr>\n",
       "      <th>...</th>\n",
       "      <td>...</td>\n",
       "      <td>...</td>\n",
       "    </tr>\n",
       "    <tr>\n",
       "      <th>104000</th>\n",
       "      <td>LineString</td>\n",
       "      <td>[(-99.190561, 19.333546), (-99.190461, 19.3336...</td>\n",
       "    </tr>\n",
       "    <tr>\n",
       "      <th>104001</th>\n",
       "      <td>LineString</td>\n",
       "      <td>[(-99.190461, 19.333669), (-99.190201, 19.3333...</td>\n",
       "    </tr>\n",
       "    <tr>\n",
       "      <th>104002</th>\n",
       "      <td>LineString</td>\n",
       "      <td>[(-99.187972, 19.325816), (-99.188095, 19.3267...</td>\n",
       "    </tr>\n",
       "    <tr>\n",
       "      <th>104003</th>\n",
       "      <td>LineString</td>\n",
       "      <td>[(-99.189227, 19.322155), (-99.189438, 19.3241...</td>\n",
       "    </tr>\n",
       "    <tr>\n",
       "      <th>104004</th>\n",
       "      <td>LineString</td>\n",
       "      <td>[(-99.189055, 19.330075), (-99.189135, 19.3306...</td>\n",
       "    </tr>\n",
       "  </tbody>\n",
       "</table>\n",
       "<p>104005 rows × 2 columns</p>\n",
       "</div>"
      ],
      "text/plain": [
       "              type                                        coordinates\n",
       "0       LineString  [(-99.155751, 19.367176), (-99.155593, 19.3675...\n",
       "1       LineString  [(-99.184982, 19.385149), (-99.185079, 19.3850...\n",
       "2       LineString  [(-99.131604, 19.394036), (-99.131504, 19.3945...\n",
       "3       LineString  [(-99.140084, 19.382814), (-99.14144, 19.38306...\n",
       "4       LineString  [(-99.147813, 19.380851), (-99.148397, 19.3809...\n",
       "...            ...                                                ...\n",
       "104000  LineString  [(-99.190561, 19.333546), (-99.190461, 19.3336...\n",
       "104001  LineString  [(-99.190461, 19.333669), (-99.190201, 19.3333...\n",
       "104002  LineString  [(-99.187972, 19.325816), (-99.188095, 19.3267...\n",
       "104003  LineString  [(-99.189227, 19.322155), (-99.189438, 19.3241...\n",
       "104004  LineString  [(-99.189055, 19.330075), (-99.189135, 19.3306...\n",
       "\n",
       "[104005 rows x 2 columns]"
      ]
     },
     "execution_count": 16,
     "metadata": {},
     "output_type": "execute_result"
    }
   ],
   "source": [
    "df"
   ]
  },
  {
   "cell_type": "code",
   "execution_count": 41,
   "metadata": {
    "collapsed": true,
    "deletable": true,
    "editable": true
   },
   "outputs": [],
   "source": [
    "t = []\n",
    "c = []\n",
    "p = []\n",
    "siq  = [u'highway', u'barrier', u'id', u'nombre', u'osm_id', u'other_tags', u'sentido', u'tipo', u'z_order']\n",
    "\n",
    "i = 0\n",
    "for x in diccionario:\n",
    "    if i < len(diccionario['features']):\n",
    "        t.append(diccionario['features'][i]['geometry']['type'])\n",
    "        c.append(diccionario['features'][i]['geometry']['coordinates'])\n",
    "        for key, val in diccionario['features'][i]['properties'].items():\n",
    "            if key in siq:\n",
    "                p.append(val)\n",
    "        i += 1"
   ]
  },
  {
   "cell_type": "code",
   "execution_count": null,
   "metadata": {
    "collapsed": true,
    "deletable": true,
    "editable": true
   },
   "outputs": [],
   "source": []
  },
  {
   "cell_type": "code",
   "execution_count": null,
   "metadata": {
    "collapsed": true,
    "deletable": true,
    "editable": true
   },
   "outputs": [],
   "source": []
  },
  {
   "cell_type": "code",
   "execution_count": null,
   "metadata": {
    "collapsed": true,
    "deletable": true,
    "editable": true
   },
   "outputs": [],
   "source": []
  }
 ],
 "metadata": {
  "kernelspec": {
   "display_name": "Python 2",
   "language": "python",
   "name": "python2"
  },
  "language_info": {
   "codemirror_mode": {
    "name": "ipython",
    "version": 2
   },
   "file_extension": ".py",
   "mimetype": "text/x-python",
   "name": "python",
   "nbconvert_exporter": "python",
   "pygments_lexer": "ipython2",
   "version": "2.7.14"
  }
 },
 "nbformat": 4,
 "nbformat_minor": 4
}
